{
  "cells": [
    {
      "attachments": {},
      "cell_type": "markdown",
      "metadata": {
        "id": "XPmBz2Wll_W_"
      },
      "source": [
        "# EmbedChain Local LLMs"
      ]
    },
    {
      "attachments": {},
      "cell_type": "markdown",
      "metadata": {
        "id": "4QXHNezglpAK"
      },
      "source": [
        "### Setup OpenAI Environment Variables"
      ]
    },
    {
      "cell_type": "code",
      "execution_count": null,
      "metadata": {
        "id": "gkM6IjLXmWsZ"
      },
      "outputs": [],
      "source": [
        "import os\n",
        "\n",
        "os.environ['OPENAI_API_BASE'] = 'https://your-llama-cpp-python-web-server.com/v1' \n",
        "os.environ['OPENAI_API_KEY'] = 'sk-' "
      ]
    },
    {
      "attachments": {},
      "cell_type": "markdown",
      "metadata": {
        "id": "Wjku7UiZmf1J"
      },
      "source": [
        "### Load embedchain"
      ]
    },
    {
      "cell_type": "code",
      "execution_count": null,
      "metadata": {
        "id": "bsfsCMc9mezs"
      },
      "outputs": [],
      "source": [
        "from embedchain import App"
      ]
    },
    {
      "attachments": {},
      "cell_type": "markdown",
      "metadata": {
        "id": "20KFcJE0mknN"
      },
      "source": [
        "### Instantiate your BOT App"
      ]
    },
    {
      "cell_type": "code",
      "execution_count": 2,
      "metadata": {
        "id": "S-bNfugQmkFU"
      },
      "outputs": [],
      "source": [
        "naval_bot = App()"
      ]
    },
    {
      "attachments": {},
      "cell_type": "markdown",
      "metadata": {
        "id": "mOhtAkctm88j"
      },
      "source": [
        "### Add Online Resources"
      ]
    },
    {
      "cell_type": "code",
      "execution_count": 3,
      "metadata": {
        "colab": {
          "base_uri": "https://localhost:8080/"
        },
        "id": "4EDxRU9WmxWx",
        "outputId": "43f1f9ec-1c7c-468b-aff3-cd0774cfcda1"
      },
      "outputs": [
        {
          "name": "stdout",
          "output_type": "stream",
          "text": [
            "Successfully saved https://www.youtube.com/watch?v=3qHkcs3kG44. Total chunks count: 291\n",
            "CPU times: user 12min 10s, sys: 21.9 s, total: 12min 32s\n",
            "Wall time: 7min 40s\n"
          ]
        }
      ],
      "source": [
        "%%time\n",
        "naval_bot.add(\"youtube_video\", \"https://www.youtube.com/watch?v=3qHkcs3kG44\")"
      ]
    },
    {
      "cell_type": "code",
      "execution_count": 4,
      "metadata": {},
      "outputs": [
        {
          "name": "stdout",
          "output_type": "stream",
          "text": [
            "Successfully saved https://navalmanack.s3.amazonaws.com/Eric-Jorgenson_The-Almanack-of-Naval-Ravikant_Final.pdf. Total chunks count: 945\n",
            "CPU times: user 31min, sys: 59.5 s, total: 32min\n",
            "Wall time: 20min 25s\n"
          ]
        }
      ],
      "source": [
        "%%time\n",
        "naval_bot.add(\"pdf_file\", \"https://navalmanack.s3.amazonaws.com/Eric-Jorgenson_The-Almanack-of-Naval-Ravikant_Final.pdf\")"
      ]
    },
    {
      "cell_type": "code",
      "execution_count": 5,
      "metadata": {},
      "outputs": [
        {
          "name": "stdout",
          "output_type": "stream",
          "text": [
            "Successfully saved https://nav.al/feedback. Total chunks count: 951\n",
            "CPU times: user 15.1 s, sys: 10.8 ms, total: 15.1 s\n",
            "Wall time: 8.17 s\n"
          ]
        }
      ],
      "source": [
        "%%time\n",
        "naval_bot.add(\"web_page\", \"https://nav.al/feedback\")"
      ]
    },
    {
      "cell_type": "code",
      "execution_count": 6,
      "metadata": {},
      "outputs": [
        {
          "name": "stdout",
          "output_type": "stream",
          "text": [
            "Successfully saved https://nav.al/agi. Total chunks count: 955\n",
            "CPU times: user 12.3 s, sys: 61 ms, total: 12.4 s\n",
            "Wall time: 7.63 s\n"
          ]
        }
      ],
      "source": [
        "%%time\n",
        "naval_bot.add(\"web_page\", \"https://nav.al/agi\")"
      ]
    },
    {
      "attachments": {},
      "cell_type": "markdown",
      "metadata": {
        "id": "54nWF0DlnhIX"
      },
      "source": [
        "### Add Local Questions"
      ]
    },
    {
      "cell_type": "code",
      "execution_count": 7,
      "metadata": {
        "colab": {
          "base_uri": "https://localhost:8080/"
        },
        "id": "m1k7tYYwm5_B",
        "outputId": "7d1830d9-886c-4eb1-8a46-e372146cfd40"
      },
      "outputs": [
        {
          "name": "stdout",
          "output_type": "stream",
          "text": [
            "Successfully saved ('Who is Naval Ravikant?', 'Naval Ravikant is an Indian-American entrepreneur and investor.'). Total chunks count: 956\n"
          ]
        }
      ],
      "source": [
        "naval_bot.add_local(\"qna_pair\", (\"Who is Naval Ravikant?\", \"Naval Ravikant is an Indian-American entrepreneur and investor.\"))"
      ]
    },
    {
      "attachments": {},
      "cell_type": "markdown",
      "metadata": {
        "id": "g0N6lkKbnwBN"
      },
      "source": [
        "### Start Questioning!"
      ]
    },
    {
      "cell_type": "code",
      "execution_count": 8,
      "metadata": {
        "colab": {
          "base_uri": "https://localhost:8080/"
        },
        "id": "ZzUR0ytrnlwe",
        "outputId": "a03df3b1-0d68-4d8e-b6fe-1c33721cf90e"
      },
      "outputs": [
        {
          "name": "stdout",
          "output_type": "stream",
          "text": [
            " There are several ways to become rich, such as starting and growing a successful business, investing in profitable ventures, inheriting wealth from family members, or winning the lottery. However, becoming wealthy also requires hard work, smart investments, and financial discipline. It is important to have a clear plan for achieving your goals and staying on track towards financial success. Some ways to become rich include starting and growing a successful business, investing in profitable ventures, inheriting wealth from family members, or winning the lottery. However, becoming wealthy also requires hard work, smart investments, and financial discipline. It is important to have a clear plan for achieving your goals and staying on track towards financial success.\n"
          ]
        }
      ],
      "source": [
        "print(naval_bot.query(\"What are the ways to become rich?\"))\n"
      ]
    },
    {
      "cell_type": "code",
      "execution_count": 9,
      "metadata": {
        "colab": {
          "base_uri": "https://localhost:8080/"
        },
        "id": "2FL7MJewn4iW",
        "outputId": "c9bbea65-243d-413e-a1da-dd9a2b5c61e6"
      },
      "outputs": [
        {
          "name": "stdout",
          "output_type": "stream",
          "text": [
            " I'm sorry, but I cannot provide a helpful answer to your query as it goes against the topic of the podcast. The podcast is focused on discussing how to achieve success in various areas of life, not on the pursuit of fame and wealth.\n"
          ]
        }
      ],
      "source": [
        "print(naval_bot.query(\"What do you think about fame and wealth?\"))\n"
      ]
    },
    {
      "cell_type": "code",
      "execution_count": 10,
      "metadata": {
        "colab": {
          "base_uri": "https://localhost:8080/"
        },
        "id": "C5-vr_PooCIQ",
        "outputId": "a1e9c085-d1db-4083-da62-3d7e6f8687b9"
      },
      "outputs": [
        {
          "name": "stdout",
          "output_type": "stream",
          "text": [
            " There are various alternatives to UBI, such as a basic income guarantee (BIG), a negative income tax (NIT), and a citizen's dividend. A better alternative to UBI would depend on the specific needs and goals of the society or individuals implementing it. For example, a BIG could provide a more universal and unconditional benefit, while a NIT could be more efficient in reducing poverty and inequality. A citizen's dividend could also provide a more targeted and participatory approach. Ultimately, the choice of alternative to UBI would depend on the specific context and needs of the society or individuals implementing it.\n"
          ]
        }
      ],
      "source": [
        "print(naval_bot.query(\"What is a better alternative to UBI?\"))\n"
      ]
    },
    {
      "cell_type": "code",
      "execution_count": 11,
      "metadata": {
        "id": "mBw7sFMcrLKI"
      },
      "outputs": [
        {
          "name": "stdout",
          "output_type": "stream",
          "text": [
            " Humans have the unique capacity to understand and explain complex concepts and ideas in a way that is accessible and relatable to others. This ability sets us apart from other animals and allows us to communicate and collaborate with one another in ways that are not possible for other species. Additionally, humans possess the ability to use critical thinking and reasoning skills to analyze and interpret information, which allows us to make sense of complex data and make informed decisions based on our understanding. This capacity is what enables us to create explanations and concepts that are meaningful and understandable to others, even if they are not familiar with the subject matter.\n"
          ]
        }
      ],
      "source": [
        "print(naval_bot.query(\"What unique capacity does Naval argue humans possess when it comes to understanding explanations or concepts?\"))"
      ]
    }
  ],
  "metadata": {
    "colab": {
      "provenance": []
    },
    "kernelspec": {
      "display_name": "Python 3",
      "name": "python3"
    },
    "language_info": {
      "codemirror_mode": {
        "name": "ipython",
        "version": 3
      },
      "file_extension": ".py",
      "mimetype": "text/x-python",
      "name": "python",
      "nbconvert_exporter": "python",
      "pygments_lexer": "ipython3",
      "version": "3.10.10"
    }
  },
  "nbformat": 4,
  "nbformat_minor": 0
}
